{
 "cells": [
  {
   "cell_type": "markdown",
   "metadata": {},
   "source": [
    "# SQL Practice"
   ]
  },
  {
   "cell_type": "markdown",
   "metadata": {},
   "source": [
    "#### World Database"
   ]
  },
  {
   "cell_type": "code",
   "execution_count": 1,
   "metadata": {},
   "outputs": [
    {
     "data": {
      "text/plain": [
       "\"\\nselect Language, Percentage\\nfrom city\\njoin countrylanguage on countrylanguage.countrycode = city.countrycode\\nwhere countrylanguage.CountryCode = 'USA' and city.Name = 'Santa Monica'\\norder by Percentage asc\\n;\\n\""
      ]
     },
     "execution_count": 1,
     "metadata": {},
     "output_type": "execute_result"
    }
   ],
   "source": [
    "# What languages are spoken in Santa Monica?\n",
    "'''\n",
    "select Language, Percentage\n",
    "from city\n",
    "join countrylanguage on countrylanguage.countrycode = city.countrycode\n",
    "where countrylanguage.CountryCode = 'USA' and city.Name = 'Santa Monica'\n",
    "order by Percentage asc\n",
    ";\n",
    "'''"
   ]
  },
  {
   "cell_type": "code",
   "execution_count": 2,
   "metadata": {},
   "outputs": [
    {
     "data": {
      "text/plain": [
       "'\\nselect Region, Count(Region) as num_countries\\nfrom country\\nGroup by Region\\nOrder by num_countries asc\\n;\\n'"
      ]
     },
     "execution_count": 2,
     "metadata": {},
     "output_type": "execute_result"
    }
   ],
   "source": [
    "# How many different countries are in each region?\n",
    "'''\n",
    "select Region, Count(Region) as num_countries\n",
    "from country\n",
    "Group by Region\n",
    "Order by num_countries asc\n",
    ";\n",
    "'''"
   ]
  },
  {
   "cell_type": "code",
   "execution_count": null,
   "metadata": {},
   "outputs": [],
   "source": [
    "# What is the population for each region?\n",
    "'''\n",
    "select Region, sum(Population) as population\n",
    "from country\n",
    "Group by Region\n",
    "Order by population desc\n",
    ";\n",
    "'''"
   ]
  },
  {
   "cell_type": "code",
   "execution_count": null,
   "metadata": {},
   "outputs": [],
   "source": []
  }
 ],
 "metadata": {
  "kernelspec": {
   "display_name": "Python 3",
   "language": "python",
   "name": "python3"
  },
  "language_info": {
   "codemirror_mode": {
    "name": "ipython",
    "version": 3
   },
   "file_extension": ".py",
   "mimetype": "text/x-python",
   "name": "python",
   "nbconvert_exporter": "python",
   "pygments_lexer": "ipython3",
   "version": "3.8.5"
  }
 },
 "nbformat": 4,
 "nbformat_minor": 4
}
