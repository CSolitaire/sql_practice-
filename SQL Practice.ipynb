{
 "cells": [
  {
   "cell_type": "markdown",
   "metadata": {},
   "source": [
    "# SQL Practice"
   ]
  },
  {
   "cell_type": "markdown",
   "metadata": {},
   "source": [
    "#### World Database"
   ]
  },
  {
   "cell_type": "code",
   "execution_count": null,
   "metadata": {},
   "outputs": [],
   "source": [
    "# What languages are spoken in Santa Monica?\n",
    "'''\n",
    "select Language, Percentage\n",
    "from city\n",
    "join countrylanguage on countrylanguage.countrycode = city.countrycode\n",
    "where countrylanguage.CountryCode = 'USA' and city.Name = 'Santa Monica'\n",
    "order by Percentage asc\n",
    ";\n",
    "'''"
   ]
  },
  {
   "cell_type": "code",
   "execution_count": null,
   "metadata": {},
   "outputs": [],
   "source": [
    "# How many different countries are in each region?\n",
    "'''\n",
    "select Region, Count(Region) as num_countries\n",
    "from country\n",
    "Group by Region\n",
    "Order by num_countries asc\n",
    ";\n",
    "'''"
   ]
  },
  {
   "cell_type": "code",
   "execution_count": null,
   "metadata": {},
   "outputs": [],
   "source": [
    "# What is the population for each region?\n",
    "'''\n",
    "select Region, sum(Population) as population\n",
    "from country\n",
    "Group by Region\n",
    "Order by population desc\n",
    ";\n",
    "'''"
   ]
  },
  {
   "cell_type": "code",
   "execution_count": null,
   "metadata": {},
   "outputs": [],
   "source": [
    "# What is the population for each continent?\n",
    "'''\n",
    "select Continent, Sum(Population) as Population \n",
    "from country\n",
    "group by Continent\n",
    "order by Population desc;\n",
    "'''"
   ]
  },
  {
   "cell_type": "code",
   "execution_count": null,
   "metadata": {},
   "outputs": [],
   "source": [
    "# What is the average life expectancy globally?\n",
    "'''\n",
    "select avg(LifeExpectancy) as LifeExpectancy \n",
    "from country\n",
    ";\n",
    "'''"
   ]
  },
  {
   "cell_type": "code",
   "execution_count": null,
   "metadata": {},
   "outputs": [],
   "source": [
    "# What is the average life expectancy for each region, each continent? Sort the results from shortest to longest\n",
    "'''\n",
    "select Continent, avg(LifeExpectancy) as LifeExpectancy \n",
    "from country\n",
    "group by Continent\n",
    "order by LifeExpectancy asc\n",
    ";\n",
    "\n",
    "select Region, avg(LifeExpectancy) as LifeExpectancy \n",
    "from country\n",
    "group by Region\n",
    "order by LifeExpectancy asc\n",
    ";\n",
    "'''"
   ]
  },
  {
   "cell_type": "code",
   "execution_count": null,
   "metadata": {},
   "outputs": [],
   "source": [
    "# Find all the countries whose local name is different from the official name\n",
    "'''\n",
    "select c.Name, c.LocalName\n",
    "from country as c\n",
    "where c.Name != c.LocalName \n",
    ";\n",
    "'''"
   ]
  },
  {
   "cell_type": "code",
   "execution_count": null,
   "metadata": {},
   "outputs": [],
   "source": [
    "# How many countries have a life expectancy less than x?\n",
    "'''\n",
    "select c.Name, c.LifeExpectancy, c.Continent\n",
    "from country as c \n",
    "where c.LifeExpectancy <= 50\n",
    "order by LifeExpectancy asc\n",
    ";\n",
    "'''"
   ]
  },
  {
   "cell_type": "code",
   "execution_count": null,
   "metadata": {},
   "outputs": [],
   "source": [
    "# What is the city name, district, county, region, and content of each city in the database?\n",
    "'''\n",
    "select city.name as City_Name, District, c.Name as Country, Region, Continent \n",
    "from city\n",
    "join country as c on c.Code = city.CountryCode;\n",
    "'''"
   ]
  },
  {
   "cell_type": "code",
   "execution_count": null,
   "metadata": {},
   "outputs": [],
   "source": [
    "# What is the life expectancy in city x?\n",
    "'''\n",
    "select city.name as City_Name, LifeExpectancy \n",
    "from city\n",
    "join country as c on c.Code = city.CountryCode;\n",
    "'''"
   ]
  },
  {
   "cell_type": "markdown",
   "metadata": {},
   "source": [
    "#### Sakila Database"
   ]
  },
  {
   "cell_type": "code",
   "execution_count": null,
   "metadata": {},
   "outputs": [],
   "source": [
    "# Display the first and last names in all lowercase of all the actors.\n",
    "\n",
    "'''\n",
    "SELECT lower(first_name), lower(last_name)\n",
    "FROM actor;\n",
    "'''"
   ]
  },
  {
   "cell_type": "code",
   "execution_count": null,
   "metadata": {},
   "outputs": [],
   "source": [
    "# You need to find the ID number, first name, and last name of an actor, of whom you know only the first name, \n",
    "#\"Joe.\" What is one query would you could use to obtain this information?\n",
    "\n",
    "'''\n",
    "SELECT actor_id, first_name, last_name\n",
    "FROM actor\n",
    "WHERE first_name LIKE '%Joe';\n",
    "'''"
   ]
  },
  {
   "cell_type": "code",
   "execution_count": null,
   "metadata": {},
   "outputs": [],
   "source": [
    "# Find all actors whose last name contain the letters \"gen\":\n",
    "\n",
    "'''\n",
    "SELECT actor_id, first_name, last_name\n",
    "FROM actor\n",
    "WHERE last_name LIKE '%gen%';\n",
    "'''"
   ]
  },
  {
   "cell_type": "code",
   "execution_count": null,
   "metadata": {},
   "outputs": [],
   "source": [
    "# Find all actors whose last names contain the letters \"li\". \n",
    "# This time, order the rows by last name and first name, in that order.\n",
    "'''\n",
    "SELECT actor_id, first_name, last_name\n",
    "FROM actor\n",
    "WHERE last_name LIKE '%li%'\n",
    "Order by last_name, first_name;\n",
    "'''"
   ]
  },
  {
   "cell_type": "code",
   "execution_count": null,
   "metadata": {},
   "outputs": [],
   "source": [
    "# Using IN, display the country_id and country columns for the following countries: \n",
    "# Afghanistan, Bangladesh, and China:\n",
    "'''\n",
    "SELECT country_id, country\n",
    "FROM country\n",
    "WHERE country in ('Afghanistan', 'Bangladesh','China');\n",
    "'''"
   ]
  },
  {
   "cell_type": "code",
   "execution_count": null,
   "metadata": {},
   "outputs": [],
   "source": [
    "# List the last names of all the actors, as well as how many actors have that last name.\n",
    "'''\n",
    "SELECT last_name, count(last_name)\n",
    "FROM actor\n",
    "group by last_name\n",
    ";\n",
    "'''"
   ]
  },
  {
   "cell_type": "code",
   "execution_count": null,
   "metadata": {},
   "outputs": [],
   "source": [
    "# List last names of actors and the number of actors who have that last name, \n",
    "# but only for names that are shared by at least two actors\n",
    "'''\n",
    "SELECT last_name, count(last_name) as count \n",
    "FROM actor\n",
    "GROUP BY last_name\n",
    "HAVING COUNT(last_name)>=2\n",
    ";\n",
    "'''"
   ]
  },
  {
   "cell_type": "code",
   "execution_count": null,
   "metadata": {},
   "outputs": [],
   "source": [
    "# You cannot locate the schema of the address table. Which query would you use to re-create it?\n",
    "'''\n",
    "create table address_new (\n",
    "    address_id integer(11) NOT NULL,\n",
    "    address varchar(30) NOT NULL,\n",
    "    adress2 varchar(30) NOT NULL,\n",
    "    district varchar(30) NOT NULL,\n",
    "    city_id integer(11) NOT NULL,\n",
    "    postal_code integer(11) NOT NULL,\n",
    "    phone integer(10) NOT NULL,\n",
    "    location varchar(30) NOT NULL,\n",
    "    last_update datetime);\n",
    "\n",
    "'''"
   ]
  },
  {
   "cell_type": "code",
   "execution_count": null,
   "metadata": {},
   "outputs": [],
   "source": [
    "# Use JOIN to display the first and last names, as well as the address, of each staff member.\n",
    "'''\n",
    "select staff.first_name, staff.last_name, address.address\n",
    "from staff\n",
    "join address on address.address_id = staff.address_id\n",
    ";\n",
    "'''"
   ]
  },
  {
   "cell_type": "code",
   "execution_count": null,
   "metadata": {},
   "outputs": [],
   "source": [
    "# Use JOIN to display the total amount rung up by each staff member in August of 2005.\n",
    "'''\n",
    "select first_name, last_name, count(payment.amount) as total_rung_up\n",
    "from staff\n",
    "join payment on payment.staff_id = staff.staff_id\n",
    "Where month(payment.payment_date) = 8\n",
    "group by payment.staff_id\n",
    ";\n",
    "'''"
   ]
  },
  {
   "cell_type": "code",
   "execution_count": null,
   "metadata": {},
   "outputs": [],
   "source": [
    "# List each film and the number of actors who are listed for that film.\n",
    "'''\n",
    "select f.title, count(fa.actor_id) as actor_count\n",
    "from film as f\n",
    "join film_actor as fa where fa.film_id = f.film_id\n",
    "group by f.title\n",
    ";\n",
    "'''"
   ]
  },
  {
   "cell_type": "code",
   "execution_count": null,
   "metadata": {},
   "outputs": [],
   "source": [
    "# How many copies of the film Hunchback Impossible exist in the inventory system?\n",
    "'''\n",
    "Select ft.title, count(i.film_id) as current_inventory\n",
    "from film_text as ft\n",
    "Join inventory as i on i.film_id = ft.film_id\n",
    "where ft.title like '%Hunchback Impossible'\n",
    "group by ft.title\n",
    ";\n",
    "'''"
   ]
  },
  {
   "cell_type": "code",
   "execution_count": null,
   "metadata": {},
   "outputs": [],
   "source": [
    "# The music of Queen and Kris Kristofferson have seen an unlikely resurgence. \n",
    "# As an unintended consequence, films starting with the letters K and Q have also soared in popularity. \n",
    "# Use subqueries to display the titles of movies starting with the letters K and Q whose language is English.\n",
    "'''\n",
    "Select f.title, f.description\n",
    "from film as f\n",
    "Where f.title like 'K%' or f.title like 'Q%' and f.language_id = 1\n",
    ";\n",
    "'''"
   ]
  },
  {
   "cell_type": "code",
   "execution_count": null,
   "metadata": {},
   "outputs": [],
   "source": [
    "# Use subqueries to display all actors who appear in the film Alone Trip.\n",
    "'''\n",
    "Select f.title, concat(a.first_name,' ', a.last_name) as Actor_name\n",
    "from film as f\n",
    "join film_actor as fa on fa.film_id = f.film_id\n",
    "join actor as a on a.actor_id = fa.actor_id\n",
    "Where f.title like '%Alone Trip'\n",
    ";\n",
    "'''"
   ]
  },
  {
   "cell_type": "code",
   "execution_count": null,
   "metadata": {},
   "outputs": [],
   "source": [
    "# You want to run an email marketing campaign in Canada, for which you will need the names \n",
    "# and email addresses of all Canadian customers.\n",
    "'''\n",
    "Select cu.first_name, cu.last_name, email, address, ci.city, postal_code, cu.last_update\n",
    "from customer as cu\n",
    "Join address as a on a.address_id = cu.address_id\n",
    "join city as ci on ci.city_id = a.city_id\n",
    "join country as co on co.country_id = ci.country_id\n",
    "where co.country_id = 20\n",
    ";\n",
    "'''"
   ]
  },
  {
   "cell_type": "code",
   "execution_count": null,
   "metadata": {},
   "outputs": [],
   "source": [
    "# Sales have been lagging among young families, and you wish to target all family movies for a promotion. \n",
    "# Identify all movies categorized as famiy films.\n",
    "'''\n",
    "Select *\n",
    "from film as f\n",
    "join film_category as fc on fc.film_id = f.film_id\n",
    "Where fc.category_id = 8\n",
    ";\n",
    "'''"
   ]
  },
  {
   "cell_type": "code",
   "execution_count": null,
   "metadata": {},
   "outputs": [],
   "source": [
    "# Write a query to display how much business, in dollars, each store brought in.\n",
    "'''\n",
    "select s.store_id, concat ('$', ' ', sum(s.store_id)) as profit\n",
    "from staff as s\n",
    "join payment as p on p.staff_id = s.staff_id\n",
    "group by s.store_id\n",
    ";\n",
    "'''"
   ]
  },
  {
   "cell_type": "code",
   "execution_count": null,
   "metadata": {},
   "outputs": [],
   "source": [
    "# Write a query to display for each store its store ID, city, and country.\n",
    "'''\n",
    "select store_id, a.address, c.city, cc.country\n",
    "from store as s\n",
    "join address as a on a.address_id = s.address_id\n",
    "join city as c on c.city_id = a.city_id\n",
    "join country as cc on cc.country_id = c.country_id\n",
    ";\n",
    "'''"
   ]
  },
  {
   "cell_type": "code",
   "execution_count": null,
   "metadata": {},
   "outputs": [],
   "source": [
    "# List the top five genres in gross revenue in descending order. \n",
    "# (Hint: you may need to use the following tables: category, film_category, inventory, payment, and rental.)\n",
    "'''\n",
    "SELECT cat.name as category, SUM(d.revenue) as revenue from category cat \n",
    "JOIN\n",
    "    (SELECT catf.category_id, c.revenue FROM film_category catf \n",
    "\tJOIN \n",
    "\t\t(SELECT i.film_id, b.revenue FROM inventory i \n",
    "\t\tJOIN \n",
    "\t\t\t(SELECT r.inventory_id, a.revenue from rental r \n",
    "\t\t\tJOIN \n",
    "\t\t\t\t(SELECT p.rental_id, p.amount as revenue FROM payment p) a \n",
    "\t\t\t\tON a.rental_id = r.rental_id) b\n",
    "\t\t\tON b.inventory_id = i.inventory_id) c\n",
    "\t\tON c.film_id = catf.film_id) d \n",
    "\tON d.category_id = cat.category_id GROUP BY cat.name\n",
    "  ORDER BY revenue DESC\n",
    "  LIMIT 5;  \n",
    "'''"
   ]
  },
  {
   "cell_type": "markdown",
   "metadata": {},
   "source": [
    "#### Sakila w/ Select Statements"
   ]
  },
  {
   "cell_type": "code",
   "execution_count": null,
   "metadata": {},
   "outputs": [],
   "source": [
    "# SELECT statements\n",
    "\n",
    "# Select all columns from the actor table.\n",
    "'''\n",
    "select *\n",
    "from actor\n",
    ";\n",
    "'''\n",
    "# Select only the last_name column from the actor table.\n",
    "'''\n",
    "select last_name\n",
    "from actor\n",
    ";\n",
    "'''"
   ]
  },
  {
   "cell_type": "code",
   "execution_count": null,
   "metadata": {},
   "outputs": [],
   "source": [
    "# DISTINCT operator\n",
    "\n",
    "# Select all distinct (different) last names from the actor table.\n",
    "'''\n",
    "select distinct last_name\n",
    "from actor\n",
    ";\n",
    "'''\n",
    "# Select all distinct (different) postal codes from the address table.\n",
    "'''\n",
    "select distinct postal_code\n",
    "from address\n",
    ";\n",
    "'''\n",
    "# Select all distinct (different) ratings from the film table.\n",
    "'''\n",
    "select distinct rating\n",
    "from film\n",
    ";\n",
    "'''"
   ]
  },
  {
   "cell_type": "code",
   "execution_count": null,
   "metadata": {},
   "outputs": [],
   "source": [
    "# WHERE clause\n",
    "\n",
    "#Select the title, description, rating, movie length columns from the films table that last 3 hours or longer.\n",
    " '''\n",
    "select title, description, rating, length\n",
    "from film\n",
    "where length >= 180\n",
    ";\n",
    " '''\n",
    "# Select the payment id, amount, and payment date columns from the payments table for payments \n",
    "# made on or after 05/27/2005.\n",
    "'''\n",
    "select payment_id, amount, payment_date\n",
    "from payment\n",
    "where payment_date >= '2005-05-27'\n",
    ";\n",
    "'''    \n",
    "# Select the primary key, amount, and payment date columns from the payment table for payments made on 05/27/2005.\n",
    "'''\n",
    "select payment_id, amount, payment_date\n",
    "from payment\n",
    "where payment_date like '%2005-05-27%'\n",
    "order by payment_date\n",
    ";\n",
    "'''\n",
    "# Select all columns from the customer table for rows that have a last names beginning with S \n",
    "# and a first names ending with N.\n",
    "'''\n",
    "select *\n",
    "from customer\n",
    "where last_name like 'S%' and first_name like '%N'\n",
    ";\n",
    "'''\n",
    "# Select all columns from the customer table for rows where the customer is inactive or has \n",
    "# a last name beginning with \"M\".\n",
    "'''\n",
    "select *\n",
    "from customer\n",
    "where active = 0 \n",
    "or last_name like 'M%'\n",
    "order by active\n",
    ";\n",
    "'''\n",
    "# Select all columns from the category table for rows where the primary key is greater than 4 and \n",
    "# the name field begins with either C, S or T.\n",
    "'''\n",
    "select *\n",
    "from category\n",
    "where category_id > 4\n",
    "and name like '%C'\n",
    "or name like '%S'\n",
    "or name like '%T'\n",
    ";\n",
    "'''\n",
    "# Select all columns minus the password column from the staff table for rows that contain a password.\n",
    "'''\n",
    "select staff_id, first_name, last_name, address_id, picture, email, store_id, active, username\n",
    "from staff\n",
    "where staff_id = 1\n",
    ";\n",
    "'''\n",
    "# Select all columns minus the password column from the staff table for rows that do not contain a password.\n",
    "'''\n",
    "select staff_id, first_name, last_name, address_id, picture, email, store_id, active, username\n",
    "from staff\n",
    "where staff_id = 2\n",
    ";\n",
    "'''"
   ]
  }
 ],
 "metadata": {
  "kernelspec": {
   "display_name": "Python 3",
   "language": "python",
   "name": "python3"
  },
  "language_info": {
   "codemirror_mode": {
    "name": "ipython",
    "version": 3
   },
   "file_extension": ".py",
   "mimetype": "text/x-python",
   "name": "python",
   "nbconvert_exporter": "python",
   "pygments_lexer": "ipython3",
   "version": "3.8.5"
  }
 },
 "nbformat": 4,
 "nbformat_minor": 4
}
