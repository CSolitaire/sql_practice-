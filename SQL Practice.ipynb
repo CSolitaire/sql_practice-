{
 "cells": [
  {
   "cell_type": "markdown",
   "metadata": {},
   "source": [
    "# SQL Practice"
   ]
  },
  {
   "cell_type": "markdown",
   "metadata": {},
   "source": [
    "#### World Database"
   ]
  },
  {
   "cell_type": "code",
   "execution_count": null,
   "metadata": {},
   "outputs": [],
   "source": [
    "# What languages are spoken in Santa Monica?\n",
    "'''\n",
    "select Language, Percentage\n",
    "from city\n",
    "join countrylanguage on countrylanguage.countrycode = city.countrycode\n",
    "where countrylanguage.CountryCode = 'USA' and city.Name = 'Santa Monica'\n",
    "order by Percentage asc\n",
    ";\n",
    "'''"
   ]
  },
  {
   "cell_type": "code",
   "execution_count": null,
   "metadata": {},
   "outputs": [],
   "source": [
    "# How many different countries are in each region?\n",
    "'''\n",
    "select Region, Count(Region) as num_countries\n",
    "from country\n",
    "Group by Region\n",
    "Order by num_countries asc\n",
    ";\n",
    "'''"
   ]
  },
  {
   "cell_type": "code",
   "execution_count": null,
   "metadata": {},
   "outputs": [],
   "source": [
    "# What is the population for each region?\n",
    "'''\n",
    "select Region, sum(Population) as population\n",
    "from country\n",
    "Group by Region\n",
    "Order by population desc\n",
    ";\n",
    "'''"
   ]
  },
  {
   "cell_type": "code",
   "execution_count": null,
   "metadata": {},
   "outputs": [],
   "source": [
    "# What is the population for each continent?\n",
    "'''\n",
    "select Continent, Sum(Population) as Population \n",
    "from country\n",
    "group by Continent\n",
    "order by Population desc;\n",
    "'''"
   ]
  },
  {
   "cell_type": "code",
   "execution_count": null,
   "metadata": {},
   "outputs": [],
   "source": [
    "# What is the average life expectancy globally?\n",
    "'''\n",
    "select avg(LifeExpectancy) as LifeExpectancy \n",
    "from country\n",
    ";\n",
    "'''"
   ]
  },
  {
   "cell_type": "code",
   "execution_count": null,
   "metadata": {},
   "outputs": [],
   "source": [
    "# What is the average life expectancy for each region, each continent? Sort the results from shortest to longest\n",
    "'''\n",
    "select Continent, avg(LifeExpectancy) as LifeExpectancy \n",
    "from country\n",
    "group by Continent\n",
    "order by LifeExpectancy asc\n",
    ";\n",
    "\n",
    "select Region, avg(LifeExpectancy) as LifeExpectancy \n",
    "from country\n",
    "group by Region\n",
    "order by LifeExpectancy asc\n",
    ";\n",
    "'''"
   ]
  },
  {
   "cell_type": "code",
   "execution_count": null,
   "metadata": {},
   "outputs": [],
   "source": [
    "# Find all the countries whose local name is different from the official name\n",
    "'''\n",
    "select c.Name, c.LocalName\n",
    "from country as c\n",
    "where c.Name != c.LocalName \n",
    ";\n",
    "'''"
   ]
  },
  {
   "cell_type": "code",
   "execution_count": null,
   "metadata": {},
   "outputs": [],
   "source": [
    "# How many countries have a life expectancy less than x?\n",
    "'''\n",
    "select c.Name, c.LifeExpectancy, c.Continent\n",
    "from country as c \n",
    "where c.LifeExpectancy <= 50\n",
    "order by LifeExpectancy asc\n",
    ";\n",
    "'''"
   ]
  },
  {
   "cell_type": "code",
   "execution_count": null,
   "metadata": {},
   "outputs": [],
   "source": [
    "# What is the city name, district, county, region, and content of each city in the database?\n",
    "'''\n",
    "select city.name as City_Name, District, c.Name as Country, Region, Continent \n",
    "from city\n",
    "join country as c on c.Code = city.CountryCode;\n",
    "'''"
   ]
  },
  {
   "cell_type": "code",
   "execution_count": null,
   "metadata": {},
   "outputs": [],
   "source": [
    "# What is the life expectancy in city x?\n",
    "'''\n",
    "select city.name as City_Name, LifeExpectancy \n",
    "from city\n",
    "join country as c on c.Code = city.CountryCode;\n",
    "'''"
   ]
  },
  {
   "cell_type": "markdown",
   "metadata": {},
   "source": [
    "#### Sakila Database"
   ]
  },
  {
   "cell_type": "code",
   "execution_count": null,
   "metadata": {},
   "outputs": [],
   "source": [
    "# Display the first and last names in all lowercase of all the actors.\n",
    "\n",
    "'''\n",
    "SELECT lower(first_name), lower(last_name)\n",
    "FROM actor;\n",
    "'''"
   ]
  },
  {
   "cell_type": "code",
   "execution_count": null,
   "metadata": {},
   "outputs": [],
   "source": [
    "# You need to find the ID number, first name, and last name of an actor, of whom you know only the first name, \n",
    "#\"Joe.\" What is one query would you could use to obtain this information?\n",
    "\n",
    "'''\n",
    "SELECT actor_id, first_name, last_name\n",
    "FROM actor\n",
    "WHERE first_name LIKE '%Joe';\n",
    "'''"
   ]
  },
  {
   "cell_type": "code",
   "execution_count": null,
   "metadata": {},
   "outputs": [],
   "source": [
    "# Find all actors whose last name contain the letters \"gen\":\n",
    "\n",
    "'''\n",
    "SELECT actor_id, first_name, last_name\n",
    "FROM actor\n",
    "WHERE last_name LIKE '%gen%';\n",
    "'''"
   ]
  },
  {
   "cell_type": "code",
   "execution_count": null,
   "metadata": {},
   "outputs": [],
   "source": [
    "# Find all actors whose last names contain the letters \"li\". \n",
    "# This time, order the rows by last name and first name, in that order.\n",
    "'''\n",
    "SELECT actor_id, first_name, last_name\n",
    "FROM actor\n",
    "WHERE last_name LIKE '%li%'\n",
    "Order by last_name, first_name;\n",
    "'''"
   ]
  },
  {
   "cell_type": "code",
   "execution_count": null,
   "metadata": {},
   "outputs": [],
   "source": [
    "# Using IN, display the country_id and country columns for the following countries: \n",
    "# Afghanistan, Bangladesh, and China:\n",
    "'''\n",
    "SELECT country_id, country\n",
    "FROM country\n",
    "WHERE country in ('Afghanistan', 'Bangladesh','China');\n",
    "'''"
   ]
  },
  {
   "cell_type": "code",
   "execution_count": null,
   "metadata": {},
   "outputs": [],
   "source": [
    "# List the last names of all the actors, as well as how many actors have that last name.\n",
    "'''\n",
    "SELECT last_name, count(last_name)\n",
    "FROM actor\n",
    "group by last_name\n",
    ";\n",
    "'''"
   ]
  },
  {
   "cell_type": "code",
   "execution_count": null,
   "metadata": {},
   "outputs": [],
   "source": [
    "# List last names of actors and the number of actors who have that last name, \n",
    "# but only for names that are shared by at least two actors\n",
    "'''\n",
    "SELECT last_name, count(last_name) as count \n",
    "FROM actor\n",
    "GROUP BY last_name\n",
    "HAVING COUNT(last_name)>=2\n",
    ";\n",
    "'''"
   ]
  },
  {
   "cell_type": "code",
   "execution_count": null,
   "metadata": {},
   "outputs": [],
   "source": [
    "# You cannot locate the schema of the address table. Which query would you use to re-create it?\n",
    "'''\n",
    "create table address_new (\n",
    "    address_id integer(11) NOT NULL,\n",
    "    address varchar(30) NOT NULL,\n",
    "    adress2 varchar(30) NOT NULL,\n",
    "    district varchar(30) NOT NULL,\n",
    "    city_id integer(11) NOT NULL,\n",
    "    postal_code integer(11) NOT NULL,\n",
    "    phone integer(10) NOT NULL,\n",
    "    location varchar(30) NOT NULL,\n",
    "    last_update datetime);\n",
    "\n",
    "'''"
   ]
  },
  {
   "cell_type": "code",
   "execution_count": null,
   "metadata": {},
   "outputs": [],
   "source": [
    "# Use JOIN to display the first and last names, as well as the address, of each staff member.\n",
    "'''\n",
    "select staff.first_name, staff.last_name, address.address\n",
    "from staff\n",
    "join address on address.address_id = staff.address_id\n",
    ";\n",
    "'''"
   ]
  },
  {
   "cell_type": "code",
   "execution_count": null,
   "metadata": {},
   "outputs": [],
   "source": [
    "# Use JOIN to display the total amount rung up by each staff member in August of 2005.\n",
    "'''\n",
    "select first_name, last_name, count(payment.amount) as total_rung_up\n",
    "from staff\n",
    "join payment on payment.staff_id = staff.staff_id\n",
    "Where month(payment.payment_date) = 8\n",
    "group by payment.staff_id\n",
    ";\n",
    "'''"
   ]
  },
  {
   "cell_type": "code",
   "execution_count": null,
   "metadata": {},
   "outputs": [],
   "source": [
    "# List each film and the number of actors who are listed for that film.\n",
    "'''\n",
    "select f.title, count(fa.actor_id) as actor_count\n",
    "from film as f\n",
    "join film_actor as fa where fa.film_id = f.film_id\n",
    "group by f.title\n",
    ";\n",
    "'''"
   ]
  }
 ],
 "metadata": {
  "kernelspec": {
   "display_name": "Python 3",
   "language": "python",
   "name": "python3"
  },
  "language_info": {
   "codemirror_mode": {
    "name": "ipython",
    "version": 3
   },
   "file_extension": ".py",
   "mimetype": "text/x-python",
   "name": "python",
   "nbconvert_exporter": "python",
   "pygments_lexer": "ipython3",
   "version": "3.8.5"
  }
 },
 "nbformat": 4,
 "nbformat_minor": 4
}
