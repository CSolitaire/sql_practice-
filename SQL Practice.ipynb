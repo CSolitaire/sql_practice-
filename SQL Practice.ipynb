{
 "cells": [
  {
   "cell_type": "markdown",
   "metadata": {},
   "source": [
    "# SQL Practice"
   ]
  },
  {
   "cell_type": "markdown",
   "metadata": {},
   "source": [
    "#### World Database"
   ]
  },
  {
   "cell_type": "code",
   "execution_count": null,
   "metadata": {},
   "outputs": [],
   "source": [
    "# What languages are spoken in Santa Monica?\n",
    "'''\n",
    "select Language, Percentage\n",
    "from city\n",
    "join countrylanguage on countrylanguage.countrycode = city.countrycode\n",
    "where countrylanguage.CountryCode = 'USA' and city.Name = 'Santa Monica'\n",
    "order by Percentage asc\n",
    ";\n",
    "'''"
   ]
  },
  {
   "cell_type": "code",
   "execution_count": null,
   "metadata": {},
   "outputs": [],
   "source": [
    "# How many different countries are in each region?\n",
    "'''\n",
    "select Region, Count(Region) as num_countries\n",
    "from country\n",
    "Group by Region\n",
    "Order by num_countries asc\n",
    ";\n",
    "'''"
   ]
  },
  {
   "cell_type": "code",
   "execution_count": null,
   "metadata": {},
   "outputs": [],
   "source": [
    "# What is the population for each region?\n",
    "'''\n",
    "select Region, sum(Population) as population\n",
    "from country\n",
    "Group by Region\n",
    "Order by population desc\n",
    ";\n",
    "'''"
   ]
  },
  {
   "cell_type": "code",
   "execution_count": null,
   "metadata": {},
   "outputs": [],
   "source": [
    "# What is the population for each continent?\n",
    "'''\n",
    "select Continent, Sum(Population) as Population \n",
    "from country\n",
    "group by Continent\n",
    "order by Population desc;\n",
    "'''"
   ]
  },
  {
   "cell_type": "code",
   "execution_count": null,
   "metadata": {},
   "outputs": [],
   "source": [
    "# What is the average life expectancy globally?\n",
    "'''\n",
    "select avg(LifeExpectancy) as LifeExpectancy \n",
    "from country\n",
    ";\n",
    "'''"
   ]
  },
  {
   "cell_type": "code",
   "execution_count": null,
   "metadata": {},
   "outputs": [],
   "source": [
    "# What is the average life expectancy for each region, each continent? Sort the results from shortest to longest\n",
    "'''\n",
    "select Continent, avg(LifeExpectancy) as LifeExpectancy \n",
    "from country\n",
    "group by Continent\n",
    "order by LifeExpectancy asc\n",
    ";\n",
    "\n",
    "select Region, avg(LifeExpectancy) as LifeExpectancy \n",
    "from country\n",
    "group by Region\n",
    "order by LifeExpectancy asc\n",
    ";\n",
    "'''"
   ]
  },
  {
   "cell_type": "code",
   "execution_count": null,
   "metadata": {},
   "outputs": [],
   "source": [
    "# Find all the countries whose local name is different from the official name\n",
    "'''\n",
    "select c.Name, c.LocalName\n",
    "from country as c\n",
    "where c.Name != c.LocalName \n",
    ";\n",
    "'''"
   ]
  },
  {
   "cell_type": "code",
   "execution_count": null,
   "metadata": {},
   "outputs": [],
   "source": [
    "# How many countries have a life expectancy less than x?\n",
    "'''\n",
    "select c.Name, c.LifeExpectancy, c.Continent\n",
    "from country as c \n",
    "where c.LifeExpectancy <= 50\n",
    "order by LifeExpectancy asc\n",
    ";\n",
    "'''"
   ]
  },
  {
   "cell_type": "code",
   "execution_count": null,
   "metadata": {},
   "outputs": [],
   "source": [
    "# What state is city x located in?\n",
    "'''\n",
    "\n",
    "'''"
   ]
  }
 ],
 "metadata": {
  "kernelspec": {
   "display_name": "Python 3",
   "language": "python",
   "name": "python3"
  },
  "language_info": {
   "codemirror_mode": {
    "name": "ipython",
    "version": 3
   },
   "file_extension": ".py",
   "mimetype": "text/x-python",
   "name": "python",
   "nbconvert_exporter": "python",
   "pygments_lexer": "ipython3",
   "version": "3.8.5"
  }
 },
 "nbformat": 4,
 "nbformat_minor": 4
}
