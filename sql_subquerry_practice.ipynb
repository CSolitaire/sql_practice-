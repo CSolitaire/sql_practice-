{
 "cells": [
  {
   "cell_type": "markdown",
   "metadata": {},
   "source": [
    "# Sub-querry Practice"
   ]
  },
  {
   "cell_type": "markdown",
   "metadata": {},
   "source": [
    "1. Find all the current employees with the same hire date as employee 101010 using a sub-query."
   ]
  },
  {
   "cell_type": "code",
   "execution_count": null,
   "metadata": {},
   "outputs": [],
   "source": [
    "'''\n",
    "SELECT\n",
    "e.first_name,\n",
    "e.last_name,\n",
    "e.hire_date as hire_date_new\n",
    "from employees as e\n",
    "join salaries as s on s.emp_no = e.emp_no and s.to_date > curdate()\n",
    "Where e.hire_date =\n",
    "(SELECT\n",
    "hire_date\n",
    "from employees\n",
    "where emp_no = '101010')\n",
    ";\n",
    "'''"
   ]
  },
  {
   "cell_type": "markdown",
   "metadata": {},
   "source": [
    "2. Find all the titles ever held by all current employees with the first name Aamod."
   ]
  },
  {
   "cell_type": "code",
   "execution_count": null,
   "metadata": {},
   "outputs": [],
   "source": [
    "'''\n",
    "select \n",
    "distinct(t.title)\n",
    "from titles as t\n",
    "where t.emp_no IN\n",
    "(\n",
    "Select\n",
    "e.emp_no\n",
    "from employees as e\n",
    "join salaries as s on s.emp_no = e.emp_no and s.to_date > curdate()\n",
    "where e.first_name = 'Aamod'\n",
    ")\n",
    ";\n",
    "'''"
   ]
  },
  {
   "cell_type": "markdown",
   "metadata": {},
   "source": [
    "3. How many people in the employees table are no longer working for the company? Give the answer in a comment in your code."
   ]
  },
  {
   "cell_type": "code",
   "execution_count": null,
   "metadata": {},
   "outputs": [],
   "source": [
    "'''\n",
    "select count(e.emp_no) - (select count(e.emp_no)\n",
    "from employees as e\n",
    "join salaries as s on s.emp_no = e.emp_no and s.to_date > curdate()) as ex_employees\n",
    "from employees as e\n",
    ";\n",
    "'''"
   ]
  },
  {
   "cell_type": "markdown",
   "metadata": {},
   "source": [
    "4. Find all the current department managers that are female. List their names in a comment in your code."
   ]
  },
  {
   "cell_type": "code",
   "execution_count": null,
   "metadata": {},
   "outputs": [],
   "source": [
    "'''\n",
    "select concat(e.first_name, ' ', e.last_name) as full_name\n",
    "from employees as e\n",
    "join dept_manager as dm on dm.emp_no = e.emp_no\n",
    "where e.gender = 'F' and dm.to_date > curdate()\n",
    ";\n",
    "'''"
   ]
  },
  {
   "cell_type": "markdown",
   "metadata": {},
   "source": [
    "5. Find all the employees who currently have a higher salary than the companies overall, historical average salary."
   ]
  },
  {
   "cell_type": "code",
   "execution_count": null,
   "metadata": {},
   "outputs": [],
   "source": [
    "'''\n",
    "select e.emp_no, e.first_name, e.last_name, s.salary\n",
    "from employees as e\n",
    "join salaries as s on s.emp_no = e.emp_no and s.to_date > curdate()\n",
    "where s.salary > (select round(avg(s.salary),2) as mean_salary\n",
    "from employees as e\n",
    "join salaries as s on s.emp_no = e.emp_no)\n",
    "order by salary asc\n",
    ";\n",
    "'''"
   ]
  },
  {
   "cell_type": "markdown",
   "metadata": {},
   "source": [
    "6. How many current salaries are within 1 standard deviation of the current highest salary? (Hint: you can use a built in function to calculate the standard deviation.) What percentage of all salaries is this?"
   ]
  },
  {
   "cell_type": "code",
   "execution_count": null,
   "metadata": {},
   "outputs": [],
   "source": [
    "# Salaries with in one standard deviation\n",
    "'''\n",
    "SELECT count(salary) as salary_1_sd_from_max\n",
    "from salaries\n",
    "where salary >\n",
    "(select max(salary)\n",
    "from salaries as s\n",
    "where s.to_date > curdate())\n",
    "-\n",
    "(SELECT round(stddev(s.salary),2) as standard_deviation\n",
    "from salaries as s\n",
    "where s.to_date > curdate())\n",
    ";\n",
    "'''\n"
   ]
  },
  {
   "cell_type": "markdown",
   "metadata": {},
   "source": [
    "# BONUS"
   ]
  },
  {
   "cell_type": "markdown",
   "metadata": {},
   "source": [
    "7. Find all the department names that currently have female managers."
   ]
  },
  {
   "cell_type": "code",
   "execution_count": null,
   "metadata": {},
   "outputs": [],
   "source": []
  },
  {
   "cell_type": "markdown",
   "metadata": {},
   "source": [
    "8. Find the first and last name of the employee with the highest salary."
   ]
  },
  {
   "cell_type": "code",
   "execution_count": null,
   "metadata": {},
   "outputs": [],
   "source": []
  },
  {
   "cell_type": "markdown",
   "metadata": {},
   "source": [
    "9. Find the department name that the employee with the highest salary works in."
   ]
  },
  {
   "cell_type": "code",
   "execution_count": null,
   "metadata": {},
   "outputs": [],
   "source": []
  }
 ],
 "metadata": {
  "kernelspec": {
   "display_name": "Python 3",
   "language": "python",
   "name": "python3"
  },
  "language_info": {
   "codemirror_mode": {
    "name": "ipython",
    "version": 3
   },
   "file_extension": ".py",
   "mimetype": "text/x-python",
   "name": "python",
   "nbconvert_exporter": "python",
   "pygments_lexer": "ipython3",
   "version": "3.8.5"
  }
 },
 "nbformat": 4,
 "nbformat_minor": 4
}
