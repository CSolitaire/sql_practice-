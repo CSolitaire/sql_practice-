{
 "cells": [
  {
   "cell_type": "markdown",
   "metadata": {},
   "source": [
    "1. Write a query to to find all employees whose last name starts and ends with 'E'. Use concat() to combine their first and last name together as a single column named full_name."
   ]
  },
  {
   "cell_type": "code",
   "execution_count": null,
   "metadata": {},
   "outputs": [],
   "source": [
    "'''\n",
    "select\n",
    "concat(first_name, ' ', last_name) as full_name\n",
    "from employees\n",
    "where last_name like 'E%E'\n",
    "order by last_name\n",
    ";\n",
    "'''"
   ]
  },
  {
   "cell_type": "markdown",
   "metadata": {},
   "source": [
    "2. Convert the names produced in your last query to all uppercase."
   ]
  },
  {
   "cell_type": "code",
   "execution_count": null,
   "metadata": {},
   "outputs": [],
   "source": [
    "'''\n",
    "select\n",
    "concat(UPPER(first_name), ' ', UPPER(last_name)) as full_name\n",
    "from employees\n",
    "where last_name like 'E%E'\n",
    "order by last_name\n",
    ";\n",
    "'''"
   ]
  },
  {
   "cell_type": "markdown",
   "metadata": {},
   "source": [
    "3. Find all employees hired in the 90s and born on Christmas. Use datediff() function to find how many days they have been working at the company (Hint: You will also need to use NOW() or CURDATE()),"
   ]
  },
  {
   "cell_type": "code",
   "execution_count": null,
   "metadata": {},
   "outputs": [],
   "source": [
    "'''\n",
    "select\n",
    "birth_date, concat(first_name, ' ', last_name) as full_name,\n",
    "datediff(curdate(),hire_date) as tenure\n",
    "from employees\n",
    "where birth_date like '%%%%-12-25'\n",
    "order by tenure desc\n",
    ";\n",
    "'''"
   ]
  },
  {
   "cell_type": "markdown",
   "metadata": {},
   "source": [
    "4. Find the smallest and largest current salary from the salaries table."
   ]
  },
  {
   "cell_type": "code",
   "execution_count": null,
   "metadata": {},
   "outputs": [],
   "source": [
    "'''\n",
    "select \n",
    "concat(e.first_name, \" \", e.last_name) as full_name,\n",
    "s.salary\n",
    "from salaries as s\n",
    "join employees as e on e.emp_no = s.emp_no\n",
    "where s.to_date > curdate()\n",
    "order by salary desc\n",
    ";\n",
    "'''"
   ]
  },
  {
   "cell_type": "markdown",
   "metadata": {},
   "source": [
    "5. Use your knowledge of built in SQL functions to generate a username for all of the employees. A username should be all lowercase, and consist of the first character of the employees first name, the first 4 characters of the employees last name, an underscore, the month the employee was born, and the last two digits of the year that they were born. Below is an example of what the first 10 rows will look like:"
   ]
  },
  {
   "cell_type": "code",
   "execution_count": null,
   "metadata": {},
   "outputs": [],
   "source": [
    "'''\n",
    "select\n",
    "CONCAT(SUBSTR(LOWER(first_name), 1, 1), \n",
    "SUBSTR(LOWER(last_name), 1, 4),\n",
    "\"_\",\n",
    "SUBSTR(birth_date, 6, 2),\n",
    "SUBSTR(birth_date, 3, 2)) as user_name,\n",
    "first_name,\n",
    "last_name,\n",
    "birth_date\n",
    "from employees\n",
    "limit 5\n",
    ";\n",
    "'''"
   ]
  }
 ],
 "metadata": {
  "kernelspec": {
   "display_name": "Python 3",
   "language": "python",
   "name": "python3"
  },
  "language_info": {
   "codemirror_mode": {
    "name": "ipython",
    "version": 3
   },
   "file_extension": ".py",
   "mimetype": "text/x-python",
   "name": "python",
   "nbconvert_exporter": "python",
   "pygments_lexer": "ipython3",
   "version": "3.8.5"
  }
 },
 "nbformat": 4,
 "nbformat_minor": 4
}
